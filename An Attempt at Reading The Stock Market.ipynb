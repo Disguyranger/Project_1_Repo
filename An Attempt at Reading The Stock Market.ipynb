{
 "cells": [
  {
   "cell_type": "code",
   "execution_count": null,
   "metadata": {},
   "outputs": [],
   "source": [
    "#!pip install tkinter\n",
    "#!pip install termcolor\n",
    "#!pip install datetime"
   ]
  },
  {
   "cell_type": "code",
   "execution_count": null,
   "metadata": {},
   "outputs": [],
   "source": [
    "import matplotlib.pyplot as plt\n",
    "import numpy as np\n",
    "import pandas as pd\n",
    "#import tkinter as tk\n",
    "from scipy.stats import linregress\n",
    "from termcolor import colored\n",
    "import requests, json, datetime, time, sys"
   ]
  },
  {
   "cell_type": "code",
   "execution_count": null,
   "metadata": {},
   "outputs": [],
   "source": [
    "#Straight answer: this is to take in input as a STRING and allow for \n",
    "coin_type = input(\"\"\"What is the name of the coin you are searching for?\\nYou can type out the FULL NAME of the coin\n",
    "or you can use the quick set up. Keep in mind that this option will autofill the currency type.\n",
    "[1] for Bitcoin (BTC)\n",
    "[2] for Litecoin (LTC)\n",
    "[3] for Ethereum (ETH)\n",
    "\"\"\").lower()"
   ]
  },
  {
   "cell_type": "code",
   "execution_count": null,
   "metadata": {},
   "outputs": [],
   "source": [
    "## This is a Dictionary to accept a KEY integer as input (still taken in as a string) and return the VALUE string \n",
    "#  attached to it.\n",
    "quick_keys = {'1': 'bitcoin', '2': 'litecoin', '3': 'ethereum'}\n",
    "\n",
    "#This is checking for the integer used as a String, and calling the dictionary previously and has 3 or's\n",
    "if coin_type == '1' or coin_type == \"2\" or coin_type == '3':\n",
    "    coin_type = quick_keys[coin_type]\n",
    "    # I stated in the input, if this IF is TRUE, then CURRENCY TYPE will be autocompleted.\n",
    "    currency_type = 'usd'\n",
    "# If the user did not pick an integer, then they will proceed to be asked to continue to input a currency type.\n",
    "else:\n",
    "    currency_type = input(colored('What currency type are you looking for: ', 'green')).lower()\n",
    "                           # ^ WILL LET YOU ATTACH A COLOR TO TEXT WHEN YOU ADD ^"
   ]
  },
  {
   "cell_type": "code",
   "execution_count": null,
   "metadata": {},
   "outputs": [],
   "source": [
    "#Loop to check for an INTEGER input. Will break as soon as the time frame is an integer value\n",
    "while True:\n",
    "    #ooo a loop... how do I break it?\n",
    "    #This try statement will continue so long as the input returns a ValueError... THAT SAID, I WOULD RATHER A CATCH ALL.\n",
    "    try:\n",
    "        #This is the TIME FRAME, this will take in how many days prior you would like to look back on.\n",
    "        time_frame = int(input(colored(\"How far back would you like to look back?\", 'green')))\n",
    "        #This break will only occur IF AND ONLY IF (IFF) the user gives us an INTEGER and nothing else...\n",
    "        break\n",
    "    except ValueError:\n",
    "        # Don't judge me. I thought this was hilarious at the time... I've been at this for about 10 hours now. \n",
    "        # It's awesome.\n",
    "        print(colored(\"\"\"                                MISTAKES WERE MADE!                                            \n",
    "\n",
    "                      Input must be in the form of an INTEGER. Please try again.               \"\"\",\n",
    "                      'red', attrs=['reverse', 'blink']))\n",
    "        #PLEASE DON'T MESS WITH THE SPACING... THIS WAS 3 MINUTES I'LL NEVER GET BACK."
   ]
  },
  {
   "cell_type": "code",
   "execution_count": null,
   "metadata": {},
   "outputs": [],
   "source": [
    "url = f'https://api.coingecko.com/api/v3/coins/{coin_type}/market_chart?vs_currency={currency_type}&days={time_frame}'\n",
    "response = requests.get(url)\n",
    "print(url)\n",
    "#I printed this out because I think it's pretty cool how f strings are working for me and I don't have to use the\n",
    "#.format tool... I love it D: *that's a sadface*"
   ]
  },
  {
   "cell_type": "code",
   "execution_count": null,
   "metadata": {},
   "outputs": [],
   "source": [
    "print(colored(f\"\"\"You are looking for {coin_type.capitalize()}'s price, \n",
    "in {currency_type.upper()} in a time frame of {time_frame} days\"\"\", 'blue'))\n",
    "#Despite how this will print out, no, it is not clickable... I tried."
   ]
  },
  {
   "cell_type": "code",
   "execution_count": null,
   "metadata": {},
   "outputs": [],
   "source": [
    "## Oh boy, here comes the code that is harder to understand! Trust me, this is where I spent\n",
    "## my evening debugging...\n",
    "\n",
    "#This is the construction of the data for readability. YOU WILL HAVE QUESTIONS, IT'S OKAY TO ASK.\n",
    "data_construct = response.json()\n",
    "#This will check to see if the data construction is a dictionary with this and only this as its OUTPUT.\n",
    "if data_construct == {\"error\":\"Could not find coin with the given id\"}:\n",
    "    print(colored(f\"\"\"You goofed.\\nThe Currency type: {coin_type} doesn't exist. \n",
    "    Please try again with the correct parameters.\"\"\", 'red', attrs=['reverse', 'blink']))\n",
    "#This is another check to see if there is another error and give the correct reason to why the INPUT did not work.\n",
    "elif data_construct == {'error': 'invalid vs_currency'}:\n",
    "    print(colored(f\"\"\"You goofed.\\nThe Currency type: {currency_type} doesn't exist. \n",
    "    Please try again with the correct parameters.\"\"\", 'red', attrs=['reverse', 'blink']))"
   ]
  },
  {
   "cell_type": "code",
   "execution_count": null,
   "metadata": {},
   "outputs": [],
   "source": [
    "#SO here's the explanation. CoinGecko.com will give us both the time and date together, as a UNIX EPOCH,\n",
    "#which is normally easy to turn to normal time, but this is in MILISECONDS. Yeah, so when I found out I could\n",
    "#just divide it by 1000, I was pretty livid. Needless to say, I was still happy that all the outputs work.\n",
    "\n",
    "#Date_Time will take in a list of the date/time.\n",
    "date_time = []\n",
    "#value will take in a list of the values and save them.\n",
    "value = []\n",
    "#This is to set a baseline and convert the time to SECONDS from MILISECONDS. Will also allow for correct parameters later\n",
    "date_time_seconds = []"
   ]
  },
  {
   "cell_type": "code",
   "execution_count": null,
   "metadata": {},
   "outputs": [],
   "source": [
    "#This FOR LOOP will go through the constructed data in the PRICES dataframe, which has 2 columns and separate \n",
    "#the two in the date_time and value LISTs. \n",
    "for row in data_construct['prices']:\n",
    "    # (date_time) This one is confusing. First we are calling the variable date_time.\n",
    "    # (.append) Next we are appending the list date_time\n",
    "    # (datetime.datetime) This is tricky, don't ask. I'm not sure. I got the info from the library\n",
    "    #      and this was how it was written.\n",
    "    #      If I had to guess, it's the DATETIME library, using the DATETIME program... actually, I'm sure it is.\n",
    "    # (utcfromtimestamp) This is looking at the COORDINATED UNIVERSAL TIME (UTC) function\n",
    "    # (int(row[0]/1000)) Fun, this had me freaking out for about an hour. Ultimately, you need to ensure that\n",
    "    #     ROW[0] is an INTEGER and NOT a FLOAT. Let's let that sink in.\n",
    "    date_time.append(datetime.datetime.utcfromtimestamp(int(row[0]/1000)))\n",
    "        #So, what this did, was take in all the information from the DATA_CONSTRUCTION variable and change \n",
    "        # The entire first element (row[0]) into YEAR/MONTH/DAY.TIME format.\n",
    "    #This one just took the second element (row[1]) and appended it to value...\n",
    "    value.append(row[1])\n",
    "    #This is used to find slope. If you didn't do this, then the plot would be non-existent.\n",
    "    date_time_seconds.append(int((row[0]/1000)))"
   ]
  },
  {
   "cell_type": "code",
   "execution_count": null,
   "metadata": {},
   "outputs": [],
   "source": [
    "#BEWARE, IF YOU RUN THIS TWICE, THEN YOU WILL GET A PURPLE LINE THAT WILL JUST MESS YOU UP AND MY DATA. STOP IT!\n",
    "\n",
    "# We want to give it a nice size, not too big though.\n",
    "plt.figure(figsize=(9,6))\n",
    "#SO, this was actually really nice to have and allowed the DATES to all appear in the PLOT\n",
    "plt.xticks(rotation = 30)\n",
    "#Everyone loves a good GRID.\n",
    "plt.grid()\n",
    "##NOTE: I'M NOT ENTIRELY SURE HOW I GOT THIS, BUT IT WORKS. ONLY CHANGE IT IF NOT COMMITTING CHANGES. \n",
    "plt.tight_layout(rect=[0, 0.05, 1, 0.95])\n",
    "#Time to make our PLOT\n",
    "plt.plot(date_time, value, color = 'black')\n",
    "#Give the thing a good TITLE\n",
    "plt.title(f\"Bitcoin price over {time_frame} days\")\n",
    "#and an X-LABEL\n",
    "plt.xlabel('Date')\n",
    "#Maybe we'll see it, probably not, but here's a Y-LABEL\n",
    "plt.ylabel('Price per Coin')\n",
    "#This is to plot LINEAR REGRESSION. This is where I found the real problem with the code and had to create \n",
    "#several work arounds in order to figure out the solution. Luckily, we had the best Hookah ever!\n",
    "#NOTE: THIS CURRENTLY WORKS. DO NOT ATTEMPT TO MAKE CHANGES WITHOUT CHECKING DOCUMENTATION! REMEMBER: DOCUMENTATION!!!\n",
    "regression = []\n",
    "(slope, intercept, rvalue, pvalue, stderr) = linregress(date_time_seconds, value)\n",
    "regress_values = []\n",
    "for i in date_time_seconds:\n",
    "    regress_values.append(i * slope + intercept)\n",
    "line_eq = \"y = \" + str(round(slope,2)) + \"x + \" + str(round(intercept,2))\n",
    "plt.plot(date_time, regress_values,'-.', color = 'red')"
   ]
  },
  {
   "cell_type": "code",
   "execution_count": null,
   "metadata": {},
   "outputs": [],
   "source": [
    "pd.read_html('https://finance.yahoo.com/quote/%5EDJI/history/')[0]"
   ]
  },
  {
   "cell_type": "code",
   "execution_count": null,
   "metadata": {},
   "outputs": [],
   "source": [
    "\n",
    "stock_market = pd.read_csv('stockmarket.csv')\n",
    "stock_market\n"
   ]
  },
  {
   "cell_type": "code",
   "execution_count": null,
   "metadata": {},
   "outputs": [],
   "source": [
    "stock_market['Date'] = pd.to_datetime(stock_market['Date'])\n",
    "\n",
    "stock_market.dtypes"
   ]
  },
  {
   "cell_type": "code",
   "execution_count": null,
   "metadata": {},
   "outputs": [],
   "source": [
    "crypto_df = pd.DataFrame ( { \"date\" : date_time,\n",
    "                      \"price\" : value })\n",
    "                         \n",
    "crypto_df"
   ]
  },
  {
   "cell_type": "code",
   "execution_count": null,
   "metadata": {},
   "outputs": [],
   "source": [
    " merged_df = pd.merge(crypto_df, stock_market, how= 'right', left_on= 'date' , right_on = 'Date' ).dropna()\n",
    " merged_df\n"
   ]
  },
  {
   "cell_type": "code",
   "execution_count": null,
   "metadata": {},
   "outputs": [],
   "source": [
    "\n",
    "merged_df[['Date', 'price', 'Open']].plot(x= \"Date\", figsize = (9,6)).grid()\n",
    "\n",
    "try:\n",
    "    os.remove(\"Jawaher.png\")\n",
    "    print(\"File exists, deleting.\")\n",
    "    plt.savefig('Jawaher.png')\n",
    "except:\n",
    "    print(\"Creating save of Jawaher.png\")\n",
    "    plt.savefig('Jawaher.png')\n",
    "    pass\n"
   ]
  },
  {
   "cell_type": "code",
   "execution_count": null,
   "metadata": {},
   "outputs": [],
   "source": []
  },
  {
   "cell_type": "code",
   "execution_count": null,
   "metadata": {},
   "outputs": [],
   "source": []
  }
 ],
 "metadata": {
  "kernelspec": {
   "display_name": "Python 3",
   "language": "python",
   "name": "python3"
  },
  "language_info": {
   "codemirror_mode": {
    "name": "ipython",
    "version": 3
   },
   "file_extension": ".py",
   "mimetype": "text/x-python",
   "name": "python",
   "nbconvert_exporter": "python",
   "pygments_lexer": "ipython3",
   "version": "3.7.6"
  }
 },
 "nbformat": 4,
 "nbformat_minor": 2
}
