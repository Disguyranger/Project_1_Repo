{
 "cells": [
  {
   "cell_type": "code",
   "execution_count": 7,
   "metadata": {},
   "outputs": [],
   "source": [
    "\"\"\"\n",
    "Project 1: An Attempt at Reading The Stock Market\n",
    "Team Name: -Pick Name-\n",
    "    Members: John Vega, Patrick Huynh, Undraa Damdinsuren, Jawaher Abdulrahim\n",
    "\"\"\"\n",
    "import matplotlib.pyplot as plt\n",
    "import numpy as np\n",
    "import pandas as pd\n",
    "import tkinter as tk\n",
    "import requests, json\n",
    "import datetime, time\n",
    "from scipy.stats import linregress\n",
    "import sys\n",
    "def storyPrint(text):\n",
    "    for letter in text:\n",
    "        sys.stdout.write(letter)\n",
    "        sys.stdout.flush()\n",
    "        time.sleep(.04)\n",
    "    print(\"\\n\")\n",
    "    \n",
    "    \n",
    "def dataFrameCreation(coin_type, currency_type, time_frame):\n",
    "    date_time = []\n",
    "    value = []\n",
    "    \n",
    "    url = f'https://api.coingecko.com/api/v3/coins/{coin_type}/market_chart?vs_currency={currency_type}&days={time_frame}'\n",
    "    response = requests.get(url)\n",
    "    data_construction = response.json()\n",
    "    if data_construction == {\"error\":\"Could not find coin with the given id\"}:\n",
    "        fail = (f\"You goofed.\\nThe Cryptocoin: {coin_type} doesn't exist. \\nPlease try again with the correct parameters.\")\n",
    "        storyPrint(fail)\n",
    "    elif data_construction == {'error': 'invalid vs_currency'}:\n",
    "        fail = (f\"You goofed.\\nThe Currency type: {currency_type} doesn't exist. \\nPlease try again with the correct parameters.\")\n",
    "        storyPrint(fail)\n",
    "    else:\n",
    "        for row in data_construction['prices']:\n",
    "            date_time.append(datetime.datetime.utcfromtimestamp(row[0]/1000))\n",
    "            value.append(row[1])\n",
    "    \n",
    "    return(date_time, value)\n",
    "    \n",
    "def main():\n",
    "    quickKeys = {'1': 'bitcoin', '2': 'litecoin', '3': 'ethereum'}\n",
    "    coin_type = input(\"\"\"What coin are you searching for? \\n Here is a quick list in case you find yourself in a bind --[1] for Bitcoin (BTC), [2] for Litecoin (LTC), [3] Ethereum (ETH): \"\"\").lower()\n",
    "    if coin_type == '1' or coin_type == \"2\" or coin_type == '3':\n",
    "        coin_type = quickKeys[coin_type]\n",
    "    currency_type = input('What currency type are you looking for: ').lower()\n",
    "    \n",
    "    while True:\n",
    "        try:\n",
    "            time_frame = int(input(\"How far back would you like to look (in days format): \"))\n",
    "            break\n",
    "        except ValueError:\n",
    "            print('Value is not an integer. Please, try again.')\n",
    "        \n",
    "\n",
    "    notFail = (f\"You are looking for {coin_type.capitalize()}'s price, in {currency_type.upper()} in a time frame of {time_frame} days\")\n",
    "    storyPrint(notFail)\n",
    "    date_time, value = dataFrameCreation(coin_type, currency_type, time_frame)\n",
    "    dataFrameBaby(date_time, value)\n",
    "\n",
    "\n",
    "\n",
    "main()"
   ]
  },
  {
   "cell_type": "code",
   "execution_count": null,
   "metadata": {},
   "outputs": [],
   "source": []
  },
  {
   "cell_type": "code",
   "execution_count": 8,
   "metadata": {},
   "outputs": [
    {
     "name": "stdout",
     "output_type": "stream",
     "text": [
      "What coin are you searching for? \n",
      " Here is a quick list in case you find yourself in a bind --[1] for Bitcoin (BTC), [2] for Litecoin (LTC), [3] Ethereum (ETH): 1\n",
      "What currency type are you looking for: usd\n",
      "How far back would you like to look (in days format): 12\n",
      "You are looking for Bitcoin's price, in USD in a time frame of 12 days\n",
      "\n"
     ]
    }
   ],
   "source": []
  },
  {
   "cell_type": "code",
   "execution_count": null,
   "metadata": {},
   "outputs": [],
   "source": []
  }
 ],
 "metadata": {
  "kernelspec": {
   "display_name": "Python 3",
   "language": "python",
   "name": "python3"
  },
  "language_info": {
   "codemirror_mode": {
    "name": "ipython",
    "version": 3
   },
   "file_extension": ".py",
   "mimetype": "text/x-python",
   "name": "python",
   "nbconvert_exporter": "python",
   "pygments_lexer": "ipython3",
   "version": "3.7.6"
  }
 },
 "nbformat": 4,
 "nbformat_minor": 4
}
